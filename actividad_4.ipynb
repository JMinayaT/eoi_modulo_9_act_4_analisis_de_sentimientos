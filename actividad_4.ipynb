{
 "cells": [
  {
   "cell_type": "code",
   "execution_count": 3,
   "id": "54230447",
   "metadata": {},
   "outputs": [],
   "source": [
    "#Importar librerias necesarias\n",
    "from glob import glob"
   ]
  },
  {
   "cell_type": "markdown",
   "id": "1323321e",
   "metadata": {},
   "source": [
    "#ACTIVIDAD 4"
   ]
  },
  {
   "cell_type": "code",
   "execution_count": 7,
   "id": "a8cf1bcd",
   "metadata": {},
   "outputs": [],
   "source": [
    "#Vvariables globales\n",
    "BASE_PATH = 'D:\\\\EOI\\\\MODULO_9\\\\ACTIVIDAD_4\\\\data\\\\'\n",
    "SFU = 'SFU_Review_Corpus_Raw_partitions'\n",
    "LEXICON = 'Bing_Liu_Opinion_Lexicon'\n",
    "DOMAINS = ['BOOKS', 'CARS', 'COMPUTERS', 'COOKWARE', 'HOTELS', 'MOVIES', 'MUSIC']"
   ]
  },
  {
   "cell_type": "code",
   "execution_count": null,
   "id": "01803c7d",
   "metadata": {},
   "outputs": [],
   "source": [
    "directory = glob(base_path+'*')"
   ]
  }
 ],
 "metadata": {
  "kernelspec": {
   "display_name": "Python 3 (ipykernel)",
   "language": "python",
   "name": "python3"
  },
  "language_info": {
   "codemirror_mode": {
    "name": "ipython",
    "version": 3
   },
   "file_extension": ".py",
   "mimetype": "text/x-python",
   "name": "python",
   "nbconvert_exporter": "python",
   "pygments_lexer": "ipython3",
   "version": "3.9.7"
  }
 },
 "nbformat": 4,
 "nbformat_minor": 5
}
