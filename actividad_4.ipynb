{
 "cells": [
  {
   "cell_type": "markdown",
   "id": "1323321e",
   "metadata": {},
   "source": [
    "## ACTIVIDAD 4"
   ]
  },
  {
   "cell_type": "code",
   "execution_count": 14,
   "id": "54230447",
   "metadata": {},
   "outputs": [],
   "source": [
    "#Importar librerias necesarias\n",
    "from glob import glob\n",
    "from nltk.tokenize import sent_tokenize"
   ]
  },
  {
   "cell_type": "code",
   "execution_count": 15,
   "id": "a8cf1bcd",
   "metadata": {},
   "outputs": [],
   "source": [
    "#Vvariables globales\n",
    "BASE_PATH = 'D:\\\\EOI\\\\MODULO_9\\\\ACTIVIDAD_4\\\\data\\\\'\n",
    "SFU = 'SFU_Review_Corpus_Raw_partitions'\n",
    "LEXICON = 'Bing_Liu_Opinion_Lexicon'\n",
    "DOMAINS = ['BOOKS', 'CARS', 'COMPUTERS', 'COOKWARE', 'HOTELS', 'MOVIES', 'MUSIC']"
   ]
  },
  {
   "cell_type": "code",
   "execution_count": 20,
   "id": "01803c7d",
   "metadata": {},
   "outputs": [
    {
     "data": {
      "text/plain": [
       "['D:\\\\EOI\\\\MODULO_9\\\\ACTIVIDAD_4\\\\data\\\\SFU_Review_Corpus_Raw_partitions\\\\dev\\\\BOOKS',\n",
       " 'D:\\\\EOI\\\\MODULO_9\\\\ACTIVIDAD_4\\\\data\\\\SFU_Review_Corpus_Raw_partitions\\\\dev\\\\CARS',\n",
       " 'D:\\\\EOI\\\\MODULO_9\\\\ACTIVIDAD_4\\\\data\\\\SFU_Review_Corpus_Raw_partitions\\\\dev\\\\COMPUTERS',\n",
       " 'D:\\\\EOI\\\\MODULO_9\\\\ACTIVIDAD_4\\\\data\\\\SFU_Review_Corpus_Raw_partitions\\\\dev\\\\COOKWARE',\n",
       " 'D:\\\\EOI\\\\MODULO_9\\\\ACTIVIDAD_4\\\\data\\\\SFU_Review_Corpus_Raw_partitions\\\\dev\\\\HOTELS',\n",
       " 'D:\\\\EOI\\\\MODULO_9\\\\ACTIVIDAD_4\\\\data\\\\SFU_Review_Corpus_Raw_partitions\\\\dev\\\\MOVIES',\n",
       " 'D:\\\\EOI\\\\MODULO_9\\\\ACTIVIDAD_4\\\\data\\\\SFU_Review_Corpus_Raw_partitions\\\\dev\\\\MUSIC',\n",
       " 'D:\\\\EOI\\\\MODULO_9\\\\ACTIVIDAD_4\\\\data\\\\SFU_Review_Corpus_Raw_partitions\\\\dev\\\\PHONES']"
      ]
     },
     "execution_count": 20,
     "metadata": {},
     "output_type": "execute_result"
    }
   ],
   "source": [
    "environment = 'dev'\n",
    "directory = glob(f'{BASE_PATH}{SFU}\\\\{environment}\\\\*')\n",
    "\n",
    "for domain in DOMAINS:\n",
    "    \n"
   ]
  }
 ],
 "metadata": {
  "kernelspec": {
   "display_name": "Python 3 (ipykernel)",
   "language": "python",
   "name": "python3"
  },
  "language_info": {
   "codemirror_mode": {
    "name": "ipython",
    "version": 3
   },
   "file_extension": ".py",
   "mimetype": "text/x-python",
   "name": "python",
   "nbconvert_exporter": "python",
   "pygments_lexer": "ipython3",
   "version": "3.9.7"
  }
 },
 "nbformat": 4,
 "nbformat_minor": 5
}
